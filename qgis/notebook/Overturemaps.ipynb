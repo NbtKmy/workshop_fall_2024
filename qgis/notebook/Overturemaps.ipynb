{
  "nbformat": 4,
  "nbformat_minor": 0,
  "metadata": {
    "colab": {
      "provenance": []
    },
    "kernelspec": {
      "name": "python3",
      "display_name": "Python 3"
    },
    "language_info": {
      "name": "python"
    }
  },
  "cells": [
    {
      "cell_type": "code",
      "execution_count": 1,
      "metadata": {
        "id": "_vNsSA897Smq"
      },
      "outputs": [],
      "source": [
        "!pip install -q overturemaps"
      ]
    },
    {
      "cell_type": "code",
      "source": [
        "!overturemaps download --bbox=8.528265,47.364406,8.558316,47.384746 \\\n",
        "    -f geoparquet --type=building --output=zurich.geoparquet"
      ],
      "metadata": {
        "id": "yW6gGFqB7izS"
      },
      "execution_count": 4,
      "outputs": []
    },
    {
      "cell_type": "code",
      "source": [
        "!overturemaps download --bbox=8.528265,47.364406,8.558316,47.384746  -f geoparquet --type=division -o zurich_divisions.geoparquet"
      ],
      "metadata": {
        "id": "hu99lJAFAS-Q"
      },
      "execution_count": 6,
      "outputs": []
    },
    {
      "cell_type": "code",
      "source": [
        "!overturemaps download --bbox=8.528265,47.364406,8.558316,47.384746  -f geoparquet --type=division_area -o zurich_division_areas.geoparquet"
      ],
      "metadata": {
        "id": "MasuehaYBNbr"
      },
      "execution_count": 7,
      "outputs": []
    }
  ]
}